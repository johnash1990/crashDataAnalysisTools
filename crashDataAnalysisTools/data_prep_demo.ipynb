{
 "cells": [
  {
   "cell_type": "markdown",
   "metadata": {},
   "source": [
    "# Data Pre-Processing Demo\n",
    "\n",
    "The code file `data_prep.py` contains a series of modules to pre-process (e.g., merging, cleaning and preliminary plotting) the original datasets from different data sources. In this demo notebook, we call a series of functions and draw some plots to present the data pre-processing work.\n",
    "\n",
    "### Original Data Sources\n",
    "- **Accident (acc)** – Traffic Accident records contained in the HSIS (Highway Safety Information System) database\n",
    "- **Curvature (curv)** – Roadway curvature information contained in the HSIS database\n",
    "- **Grade (grad)** – Roadway grade information contained in the HSIS database\n",
    "- **Road Segment (road)** – Roadway segment information (e.g., roadway inventory, milepost numbers, roadway geometry, etc.) contained in the HSIS database\n",
    "- **Elevation (elev)** – Freeway elevation database created by research group in a previous research project\n",
    "\n",
    "### Key Points in Data Merging\n",
    "- Road segment is used as the base table for data merging, while accident, elevation, grade, and curvature data have been aggregated (e.g., count, average, maximum, and minimum) into the final dataset based on roadway inventory and milepost information.\n",
    "- Two data sources (i.e., `elev` and `grad`) can provide roadway grade information. The elevation dataset has high resolution roadway elevation information (per 10ft) which is useful in producing grade statistics such as average, maximum and minimum, but only covers the Interstate freeway network. The HSIS grade dataset, although covering more roadway mileage, contains less-detailed grade information. Thus, the HSIS grade data is only applied when the elevation data for the road segment is not available.\n",
    "- HSIS has different data tables for each analysis year. The data merging process first aggregates the annual data table for each year and then creates a final dataset combining all of the annual data tables."
   ]
  },
  {
   "cell_type": "markdown",
   "metadata": {},
   "source": [
    "### Basic Imports and Settings\n",
    "Import the data pre-processing modules as well as required packages and settings for this demo."
   ]
  },
  {
   "cell_type": "code",
   "execution_count": 1,
   "metadata": {
    "collapsed": false,
    "scrolled": true
   },
   "outputs": [
    {
     "name": "stderr",
     "output_type": "stream",
     "text": [
      "C:\\Miniconda3\\lib\\site-packages\\matplotlib\\__init__.py:872: UserWarning:\n",
      "\n",
      "axes.color_cycle is deprecated and replaced with axes.prop_cycle; please use the latter.\n",
      "\n"
     ]
    }
   ],
   "source": [
    "import plotly.plotly as py\n",
    "from data_prep import *\n",
    "\n",
    "py.sign_in('charleyjoo', 'rx9n91vitl')\n",
    "\n",
    "%matplotlib inline\n",
    "plt.ioff()"
   ]
  },
  {
   "cell_type": "markdown",
   "metadata": {},
   "source": [
    "### Explore the Database\n",
    "Although the original datasets are given as `.csv` files, all the data have been read and converted into database tables to work with SQL query statements. The `sqlite3` package is applied to increase the efficiency in merging different data tables.\n",
    "\n",
    "Swich the working directory to the data folder and set up a database connection."
   ]
  },
  {
   "cell_type": "code",
   "execution_count": 2,
   "metadata": {
    "collapsed": false
   },
   "outputs": [],
   "source": [
    "set_directory()\n",
    "conn = dbi.connect('crash_database')"
   ]
  },
  {
   "cell_type": "markdown",
   "metadata": {},
   "source": [
    "Show the names of all tables in the database.\n",
    "The four different datasets are stored in the database in the process of merging data. Data tables of different analysis years are also stored in the database. The `crash_data` is the final dataset that combines all six years of data."
   ]
  },
  {
   "cell_type": "code",
   "execution_count": 3,
   "metadata": {
    "collapsed": false,
    "scrolled": false
   },
   "outputs": [
    {
     "data": {
      "text/html": [
       "<div>\n",
       "<table border=\"1\" class=\"dataframe\">\n",
       "  <thead>\n",
       "    <tr style=\"text-align: right;\">\n",
       "      <th></th>\n",
       "      <th>name</th>\n",
       "    </tr>\n",
       "  </thead>\n",
       "  <tbody>\n",
       "    <tr>\n",
       "      <th>0</th>\n",
       "      <td>data_06</td>\n",
       "    </tr>\n",
       "    <tr>\n",
       "      <th>1</th>\n",
       "      <td>data_07</td>\n",
       "    </tr>\n",
       "    <tr>\n",
       "      <th>2</th>\n",
       "      <td>data_09</td>\n",
       "    </tr>\n",
       "    <tr>\n",
       "      <th>3</th>\n",
       "      <td>data_10</td>\n",
       "    </tr>\n",
       "    <tr>\n",
       "      <th>4</th>\n",
       "      <td>data_11</td>\n",
       "    </tr>\n",
       "    <tr>\n",
       "      <th>5</th>\n",
       "      <td>road</td>\n",
       "    </tr>\n",
       "    <tr>\n",
       "      <th>6</th>\n",
       "      <td>acc</td>\n",
       "    </tr>\n",
       "    <tr>\n",
       "      <th>7</th>\n",
       "      <td>curv</td>\n",
       "    </tr>\n",
       "    <tr>\n",
       "      <th>8</th>\n",
       "      <td>grad</td>\n",
       "    </tr>\n",
       "    <tr>\n",
       "      <th>9</th>\n",
       "      <td>elev</td>\n",
       "    </tr>\n",
       "    <tr>\n",
       "      <th>10</th>\n",
       "      <td>data_08</td>\n",
       "    </tr>\n",
       "    <tr>\n",
       "      <th>11</th>\n",
       "      <td>crash_data</td>\n",
       "    </tr>\n",
       "  </tbody>\n",
       "</table>\n",
       "</div>"
      ],
      "text/plain": [
       "          name\n",
       "0      data_06\n",
       "1      data_07\n",
       "2      data_09\n",
       "3      data_10\n",
       "4      data_11\n",
       "5         road\n",
       "6          acc\n",
       "7         curv\n",
       "8         grad\n",
       "9         elev\n",
       "10     data_08\n",
       "11  crash_data"
      ]
     },
     "execution_count": 3,
     "metadata": {},
     "output_type": "execute_result"
    }
   ],
   "source": [
    "get_tables(conn)"
   ]
  },
  {
   "cell_type": "code",
   "execution_count": 4,
   "metadata": {
    "collapsed": true
   },
   "outputs": [],
   "source": [
    "conn.close()"
   ]
  },
  {
   "cell_type": "markdown",
   "metadata": {},
   "source": [
    "Get the crash data table as a dataframe and show the first five rows."
   ]
  },
  {
   "cell_type": "code",
   "execution_count": 5,
   "metadata": {
    "collapsed": false
   },
   "outputs": [
    {
     "data": {
      "text/html": [
       "<div>\n",
       "<table border=\"1\" class=\"dataframe\">\n",
       "  <thead>\n",
       "    <tr style=\"text-align: right;\">\n",
       "      <th></th>\n",
       "      <th>lshl_typ</th>\n",
       "      <th>med_type</th>\n",
       "      <th>rshl_typ</th>\n",
       "      <th>surf_typ</th>\n",
       "      <th>road_inv</th>\n",
       "      <th>spd_limt</th>\n",
       "      <th>begmp</th>\n",
       "      <th>endmp</th>\n",
       "      <th>lanewid</th>\n",
       "      <th>no_lanes</th>\n",
       "      <th>...</th>\n",
       "      <th>aadt_08</th>\n",
       "      <th>acc_ct_08</th>\n",
       "      <th>aadt_09</th>\n",
       "      <th>acc_ct_09</th>\n",
       "      <th>aadt_10</th>\n",
       "      <th>acc_ct_10</th>\n",
       "      <th>aadt_11</th>\n",
       "      <th>acc_ct_11</th>\n",
       "      <th>avg_aadt</th>\n",
       "      <th>tot_acc_ct</th>\n",
       "    </tr>\n",
       "  </thead>\n",
       "  <tbody>\n",
       "    <tr>\n",
       "      <th>0</th>\n",
       "      <td>None</td>\n",
       "      <td>None</td>\n",
       "      <td>None</td>\n",
       "      <td>None</td>\n",
       "      <td>002</td>\n",
       "      <td>30.0</td>\n",
       "      <td>0.00</td>\n",
       "      <td>0.04</td>\n",
       "      <td>40</td>\n",
       "      <td>1</td>\n",
       "      <td>...</td>\n",
       "      <td>9361.0</td>\n",
       "      <td>0.0</td>\n",
       "      <td>9545.0</td>\n",
       "      <td>0.0</td>\n",
       "      <td>6482.0</td>\n",
       "      <td>0.0</td>\n",
       "      <td>6447.0</td>\n",
       "      <td>1.0</td>\n",
       "      <td>8294.666667</td>\n",
       "      <td>4.0</td>\n",
       "    </tr>\n",
       "    <tr>\n",
       "      <th>1</th>\n",
       "      <td>None</td>\n",
       "      <td>None</td>\n",
       "      <td>None</td>\n",
       "      <td>None</td>\n",
       "      <td>002</td>\n",
       "      <td>30.0</td>\n",
       "      <td>0.04</td>\n",
       "      <td>0.11</td>\n",
       "      <td>20</td>\n",
       "      <td>2</td>\n",
       "      <td>...</td>\n",
       "      <td>9361.0</td>\n",
       "      <td>0.0</td>\n",
       "      <td>9545.0</td>\n",
       "      <td>0.0</td>\n",
       "      <td>6482.0</td>\n",
       "      <td>0.0</td>\n",
       "      <td>6447.0</td>\n",
       "      <td>0.0</td>\n",
       "      <td>8294.666667</td>\n",
       "      <td>1.0</td>\n",
       "    </tr>\n",
       "    <tr>\n",
       "      <th>2</th>\n",
       "      <td>None</td>\n",
       "      <td>None</td>\n",
       "      <td>None</td>\n",
       "      <td>None</td>\n",
       "      <td>002</td>\n",
       "      <td>30.0</td>\n",
       "      <td>0.11</td>\n",
       "      <td>0.13</td>\n",
       "      <td>20</td>\n",
       "      <td>2</td>\n",
       "      <td>...</td>\n",
       "      <td>12104.0</td>\n",
       "      <td>0.0</td>\n",
       "      <td>12342.0</td>\n",
       "      <td>0.0</td>\n",
       "      <td>9036.0</td>\n",
       "      <td>0.0</td>\n",
       "      <td>8987.0</td>\n",
       "      <td>0.0</td>\n",
       "      <td>10532.000000</td>\n",
       "      <td>1.0</td>\n",
       "    </tr>\n",
       "    <tr>\n",
       "      <th>3</th>\n",
       "      <td>C</td>\n",
       "      <td>O</td>\n",
       "      <td>C</td>\n",
       "      <td>A</td>\n",
       "      <td>002</td>\n",
       "      <td>55.0</td>\n",
       "      <td>0.13</td>\n",
       "      <td>0.14</td>\n",
       "      <td>27</td>\n",
       "      <td>4</td>\n",
       "      <td>...</td>\n",
       "      <td>23222.0</td>\n",
       "      <td>0.0</td>\n",
       "      <td>23679.0</td>\n",
       "      <td>1.0</td>\n",
       "      <td>22821.0</td>\n",
       "      <td>0.0</td>\n",
       "      <td>22698.0</td>\n",
       "      <td>0.0</td>\n",
       "      <td>20742.000000</td>\n",
       "      <td>1.0</td>\n",
       "    </tr>\n",
       "    <tr>\n",
       "      <th>4</th>\n",
       "      <td>C</td>\n",
       "      <td>O</td>\n",
       "      <td>C</td>\n",
       "      <td>A</td>\n",
       "      <td>002</td>\n",
       "      <td>55.0</td>\n",
       "      <td>0.14</td>\n",
       "      <td>0.16</td>\n",
       "      <td>23</td>\n",
       "      <td>4</td>\n",
       "      <td>...</td>\n",
       "      <td>23222.0</td>\n",
       "      <td>2.0</td>\n",
       "      <td>23679.0</td>\n",
       "      <td>3.0</td>\n",
       "      <td>22821.0</td>\n",
       "      <td>0.0</td>\n",
       "      <td>22698.0</td>\n",
       "      <td>2.0</td>\n",
       "      <td>20742.000000</td>\n",
       "      <td>11.0</td>\n",
       "    </tr>\n",
       "  </tbody>\n",
       "</table>\n",
       "<p>5 rows × 35 columns</p>\n",
       "</div>"
      ],
      "text/plain": [
       "  lshl_typ med_type rshl_typ surf_typ road_inv  spd_limt  begmp  endmp  \\\n",
       "0     None     None     None     None      002      30.0   0.00   0.04   \n",
       "1     None     None     None     None      002      30.0   0.04   0.11   \n",
       "2     None     None     None     None      002      30.0   0.11   0.13   \n",
       "3        C        O        C        A      002      55.0   0.13   0.14   \n",
       "4        C        O        C        A      002      55.0   0.14   0.16   \n",
       "\n",
       "   lanewid  no_lanes     ...      aadt_08  acc_ct_08  aadt_09  acc_ct_09  \\\n",
       "0       40         1     ...       9361.0        0.0   9545.0        0.0   \n",
       "1       20         2     ...       9361.0        0.0   9545.0        0.0   \n",
       "2       20         2     ...      12104.0        0.0  12342.0        0.0   \n",
       "3       27         4     ...      23222.0        0.0  23679.0        1.0   \n",
       "4       23         4     ...      23222.0        2.0  23679.0        3.0   \n",
       "\n",
       "   aadt_10  acc_ct_10  aadt_11  acc_ct_11      avg_aadt  tot_acc_ct  \n",
       "0   6482.0        0.0   6447.0        1.0   8294.666667         4.0  \n",
       "1   6482.0        0.0   6447.0        0.0   8294.666667         1.0  \n",
       "2   9036.0        0.0   8987.0        0.0  10532.000000         1.0  \n",
       "3  22821.0        0.0  22698.0        0.0  20742.000000         1.0  \n",
       "4  22821.0        0.0  22698.0        2.0  20742.000000        11.0  \n",
       "\n",
       "[5 rows x 35 columns]"
      ]
     },
     "execution_count": 5,
     "metadata": {},
     "output_type": "execute_result"
    }
   ],
   "source": [
    "crash_data = get_data()\n",
    "crash_data.head()"
   ]
  },
  {
   "cell_type": "markdown",
   "metadata": {},
   "source": [
    "### Interactive Plotting Funtion\n",
    "Below shows the interactive plotting function for the final dataset. Users can select dependent variables (e.g., accident counts) and independent variables (e.g., roadway geometry, traffic control, and vechile counts) from two dropdown lists. A scatterplot showing the relationship of the two selected variables is presented below."
   ]
  },
  {
   "cell_type": "code",
   "execution_count": 6,
   "metadata": {
    "collapsed": false,
    "scrolled": true
   },
   "outputs": [
    {
     "data": {
      "image/png": "[encoded data removed]",
      "text/plain": [
       "<matplotlib.figure.Figure at 0x2ba03cd5ba8>"
      ]
     },
     "metadata": {},
     "output_type": "display_data"
    }
   ],
   "source": [
    "plot_x_vs_y()"
   ]
  },
  {
   "cell_type": "markdown",
   "metadata": {},
   "source": [
    "### Interactive Plotting Funtion Using `plotly` Package\n",
    "\n",
    "Below shows the interactive plotting function using the `plotly` package. The example figure shows the scatterplot of total accident count against the average AADT over the six years. The plotly figure enables detailed interactions with the data values as well as the figure setting (e.g., scale and axes of the figure). Users can put the mouse on scatterpoints to view the detailed value of the point."
   ]
  },
  {
   "cell_type": "code",
   "execution_count": 7,
   "metadata": {
    "collapsed": false,
    "scrolled": false
   },
   "outputs": [
    {
     "data": {
      "text/html": [
       "<iframe id=\"igraph\" scrolling=\"no\" style=\"border:none;\" seamless=\"seamless\" src=\"https://plot.ly/~charleyjoo/1.embed\" height=\"525px\" width=\"100%\"></iframe>"
      ],
      "text/plain": [
       "<plotly.tools.PlotlyDisplay object>"
      ]
     },
     "execution_count": 7,
     "metadata": {},
     "output_type": "execute_result"
    }
   ],
   "source": [
    "fig = plot_scatter(x='Average AADT', y='Total Accident Count')\n",
    "plt.xlim(xmin=0)\n",
    "py.iplot_mpl(fig, strip_style = True, filename='ipython/mpl_example')"
   ]
  },
  {
   "cell_type": "markdown",
   "metadata": {},
   "source": [
    "### SQL Query Example\n",
    "Below is an example of the SQL code used in the merge_annual_data() function. The query statement basically get all the annual data tables in the database and merge them base on the roadway segment inventory and the mileposts.\n",
    "\n",
    "```\n",
    "    CREATE VIEW merge_data AS\n",
    "    SELECT d.*,\n",
    "           data_11.aadt AS aadt_11, data_11.acc_count AS acc_ct_11\n",
    "    FROM (\n",
    "\n",
    "    SELECT c.*,\n",
    "           data_10.aadt AS aadt_10, data_10.acc_count AS acc_ct_10\n",
    "    FROM (\n",
    "\n",
    "    SELECT b.*,\n",
    "           data_09.aadt AS aadt_09, data_09.acc_count AS acc_ct_09\n",
    "    FROM (\n",
    "\n",
    "    SELECT a.*,\n",
    "           data_08.aadt AS aadt_08, data_08.acc_count AS acc_ct_08\n",
    "    FROM (\n",
    "\n",
    "    SELECT data_06.*,\n",
    "           data_06.aadt AS aadt_06, data_06.acc_count AS acc_ct_06,\n",
    "           data_07.aadt AS aadt_07, data_07.acc_count AS acc_ct_07\n",
    "    FROM data_06\n",
    "\n",
    "    LEFT JOIN data_07\n",
    "    ON data_06.road_inv = data_07.road_inv AND\n",
    "       data_06.begmp = data_07.begmp AND\n",
    "       data_06.endmp = data_07.endmp\n",
    "    ) AS a\n",
    "\n",
    "    LEFT JOIN data_08\n",
    "    ON a.road_inv = data_08.road_inv AND\n",
    "       a.begmp = data_08.begmp AND\n",
    "       a.endmp = data_08.endmp\n",
    "    ) AS b\n",
    "\n",
    "    LEFT JOIN data_09\n",
    "    ON b.road_inv = data_09.road_inv AND\n",
    "       b.begmp = data_09.begmp AND\n",
    "       b.endmp = data_09.endmp\n",
    "    ) AS c\n",
    "\n",
    "    LEFT JOIN data_10\n",
    "    ON c.road_inv = data_10.road_inv AND\n",
    "       c.begmp = data_10.begmp AND\n",
    "       c.endmp = data_10.endmp\n",
    "    ) AS d\n",
    "\n",
    "    LEFT JOIN data_11\n",
    "    ON d.road_inv = data_11.road_inv AND\n",
    "       d.begmp = data_11.begmp AND\n",
    "       d.endmp = data_11.endmp\n",
    "```"
   ]
  }
 ],
 "metadata": {
  "kernelspec": {
   "display_name": "Python 3",
   "language": "python",
   "name": "python3"
  },
  "language_info": {
   "codemirror_mode": {
    "name": "ipython",
    "version": 3
   },
   "file_extension": ".py",
   "mimetype": "text/x-python",
   "name": "python",
   "nbconvert_exporter": "python",
   "pygments_lexer": "ipython3",
   "version": "3.5.1"
  }
 },
 "nbformat": 4,
 "nbformat_minor": 0
}
