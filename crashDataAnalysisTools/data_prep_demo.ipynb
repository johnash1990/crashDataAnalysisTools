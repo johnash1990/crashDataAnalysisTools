{
 "cells": [
  {
   "cell_type": "markdown",
   "metadata": {},
   "source": [
    "# Demo for data_prep.py\n",
    "\n",
    "The code file data_prep.py contains a series of modules dealing with (e.g., merging, cleaning and preliminary plotting) original datasets. As the project utilized four different data sources, it is necessary to preprocess those files to get a good fundation for further data modeling and analysis"
   ]
  },
  {
   "cell_type": "code",
   "execution_count": 1,
   "metadata": {
    "collapsed": false,
    "scrolled": true
   },
   "outputs": [],
   "source": [
    "import warnings\n",
    "warnings.filterwarnings('ignore')\n",
    "\n",
    "from data_prep import *\n",
    "\n",
    "import plotly.plotly as py\n",
    "py.sign_in('charleyjoo', 'rx9n91vitl')\n",
    "\n",
    "%matplotlib inline\n",
    "plt.ioff()"
   ]
  },
  {
   "cell_type": "code",
   "execution_count": 2,
   "metadata": {
    "collapsed": false
   },
   "outputs": [],
   "source": [
    "set_directory()\n",
    "conn = dbi.connect('crash_database')"
   ]
  },
  {
   "cell_type": "code",
   "execution_count": 3,
   "metadata": {
    "collapsed": false,
    "scrolled": false
   },
   "outputs": [
    {
     "data": {
      "text/html": [
       "<div>\n",
       "<table border=\"1\" class=\"dataframe\">\n",
       "  <thead>\n",
       "    <tr style=\"text-align: right;\">\n",
       "      <th></th>\n",
       "      <th>name</th>\n",
       "    </tr>\n",
       "  </thead>\n",
       "  <tbody>\n",
       "    <tr>\n",
       "      <th>0</th>\n",
       "      <td>data_06</td>\n",
       "    </tr>\n",
       "    <tr>\n",
       "      <th>1</th>\n",
       "      <td>data_07</td>\n",
       "    </tr>\n",
       "    <tr>\n",
       "      <th>2</th>\n",
       "      <td>data_08</td>\n",
       "    </tr>\n",
       "    <tr>\n",
       "      <th>3</th>\n",
       "      <td>data_09</td>\n",
       "    </tr>\n",
       "    <tr>\n",
       "      <th>4</th>\n",
       "      <td>data_10</td>\n",
       "    </tr>\n",
       "    <tr>\n",
       "      <th>5</th>\n",
       "      <td>road</td>\n",
       "    </tr>\n",
       "    <tr>\n",
       "      <th>6</th>\n",
       "      <td>acc</td>\n",
       "    </tr>\n",
       "    <tr>\n",
       "      <th>7</th>\n",
       "      <td>curv</td>\n",
       "    </tr>\n",
       "    <tr>\n",
       "      <th>8</th>\n",
       "      <td>grad</td>\n",
       "    </tr>\n",
       "    <tr>\n",
       "      <th>9</th>\n",
       "      <td>elev</td>\n",
       "    </tr>\n",
       "    <tr>\n",
       "      <th>10</th>\n",
       "      <td>data_11</td>\n",
       "    </tr>\n",
       "    <tr>\n",
       "      <th>11</th>\n",
       "      <td>crash_data</td>\n",
       "    </tr>\n",
       "  </tbody>\n",
       "</table>\n",
       "</div>"
      ],
      "text/plain": [
       "          name\n",
       "0      data_06\n",
       "1      data_07\n",
       "2      data_08\n",
       "3      data_09\n",
       "4      data_10\n",
       "5         road\n",
       "6          acc\n",
       "7         curv\n",
       "8         grad\n",
       "9         elev\n",
       "10     data_11\n",
       "11  crash_data"
      ]
     },
     "execution_count": 3,
     "metadata": {},
     "output_type": "execute_result"
    }
   ],
   "source": [
    "get_tables(conn)"
   ]
  },
  {
   "cell_type": "code",
   "execution_count": 4,
   "metadata": {
    "collapsed": true
   },
   "outputs": [],
   "source": [
    "conn.close()"
   ]
  },
  {
   "cell_type": "code",
   "execution_count": 5,
   "metadata": {
    "collapsed": false
   },
   "outputs": [
    {
     "data": {
      "text/html": [
       "<div>\n",
       "<table border=\"1\" class=\"dataframe\">\n",
       "  <thead>\n",
       "    <tr style=\"text-align: right;\">\n",
       "      <th></th>\n",
       "      <th>lshl_typ</th>\n",
       "      <th>med_type</th>\n",
       "      <th>rshl_typ</th>\n",
       "      <th>surf_typ</th>\n",
       "      <th>road_inv</th>\n",
       "      <th>spd_limt</th>\n",
       "      <th>begmp</th>\n",
       "      <th>endmp</th>\n",
       "      <th>lanewid</th>\n",
       "      <th>no_lanes</th>\n",
       "      <th>...</th>\n",
       "      <th>aadt_08</th>\n",
       "      <th>acc_ct_08</th>\n",
       "      <th>aadt_09</th>\n",
       "      <th>acc_ct_09</th>\n",
       "      <th>aadt_10</th>\n",
       "      <th>acc_ct_10</th>\n",
       "      <th>aadt_11</th>\n",
       "      <th>acc_ct_11</th>\n",
       "      <th>avg_aadt</th>\n",
       "      <th>tot_acc_ct</th>\n",
       "    </tr>\n",
       "  </thead>\n",
       "  <tbody>\n",
       "    <tr>\n",
       "      <th>0</th>\n",
       "      <td>None</td>\n",
       "      <td>None</td>\n",
       "      <td>None</td>\n",
       "      <td>None</td>\n",
       "      <td>002</td>\n",
       "      <td>30.0</td>\n",
       "      <td>0.00</td>\n",
       "      <td>0.04</td>\n",
       "      <td>40</td>\n",
       "      <td>1</td>\n",
       "      <td>...</td>\n",
       "      <td>9361.0</td>\n",
       "      <td>0.0</td>\n",
       "      <td>9545.0</td>\n",
       "      <td>0.0</td>\n",
       "      <td>6482.0</td>\n",
       "      <td>0.0</td>\n",
       "      <td>6447.0</td>\n",
       "      <td>1.0</td>\n",
       "      <td>8294.666667</td>\n",
       "      <td>4.0</td>\n",
       "    </tr>\n",
       "    <tr>\n",
       "      <th>1</th>\n",
       "      <td>None</td>\n",
       "      <td>None</td>\n",
       "      <td>None</td>\n",
       "      <td>None</td>\n",
       "      <td>002</td>\n",
       "      <td>30.0</td>\n",
       "      <td>0.04</td>\n",
       "      <td>0.11</td>\n",
       "      <td>20</td>\n",
       "      <td>2</td>\n",
       "      <td>...</td>\n",
       "      <td>9361.0</td>\n",
       "      <td>0.0</td>\n",
       "      <td>9545.0</td>\n",
       "      <td>0.0</td>\n",
       "      <td>6482.0</td>\n",
       "      <td>0.0</td>\n",
       "      <td>6447.0</td>\n",
       "      <td>0.0</td>\n",
       "      <td>8294.666667</td>\n",
       "      <td>1.0</td>\n",
       "    </tr>\n",
       "    <tr>\n",
       "      <th>2</th>\n",
       "      <td>None</td>\n",
       "      <td>None</td>\n",
       "      <td>None</td>\n",
       "      <td>None</td>\n",
       "      <td>002</td>\n",
       "      <td>30.0</td>\n",
       "      <td>0.11</td>\n",
       "      <td>0.13</td>\n",
       "      <td>20</td>\n",
       "      <td>2</td>\n",
       "      <td>...</td>\n",
       "      <td>12104.0</td>\n",
       "      <td>0.0</td>\n",
       "      <td>12342.0</td>\n",
       "      <td>0.0</td>\n",
       "      <td>9036.0</td>\n",
       "      <td>0.0</td>\n",
       "      <td>8987.0</td>\n",
       "      <td>0.0</td>\n",
       "      <td>10532.000000</td>\n",
       "      <td>1.0</td>\n",
       "    </tr>\n",
       "    <tr>\n",
       "      <th>3</th>\n",
       "      <td>C</td>\n",
       "      <td>O</td>\n",
       "      <td>C</td>\n",
       "      <td>A</td>\n",
       "      <td>002</td>\n",
       "      <td>55.0</td>\n",
       "      <td>0.13</td>\n",
       "      <td>0.14</td>\n",
       "      <td>27</td>\n",
       "      <td>4</td>\n",
       "      <td>...</td>\n",
       "      <td>23222.0</td>\n",
       "      <td>0.0</td>\n",
       "      <td>23679.0</td>\n",
       "      <td>1.0</td>\n",
       "      <td>22821.0</td>\n",
       "      <td>0.0</td>\n",
       "      <td>22698.0</td>\n",
       "      <td>0.0</td>\n",
       "      <td>20742.000000</td>\n",
       "      <td>1.0</td>\n",
       "    </tr>\n",
       "    <tr>\n",
       "      <th>4</th>\n",
       "      <td>C</td>\n",
       "      <td>O</td>\n",
       "      <td>C</td>\n",
       "      <td>A</td>\n",
       "      <td>002</td>\n",
       "      <td>55.0</td>\n",
       "      <td>0.14</td>\n",
       "      <td>0.16</td>\n",
       "      <td>23</td>\n",
       "      <td>4</td>\n",
       "      <td>...</td>\n",
       "      <td>23222.0</td>\n",
       "      <td>2.0</td>\n",
       "      <td>23679.0</td>\n",
       "      <td>3.0</td>\n",
       "      <td>22821.0</td>\n",
       "      <td>0.0</td>\n",
       "      <td>22698.0</td>\n",
       "      <td>2.0</td>\n",
       "      <td>20742.000000</td>\n",
       "      <td>11.0</td>\n",
       "    </tr>\n",
       "  </tbody>\n",
       "</table>\n",
       "<p>5 rows × 35 columns</p>\n",
       "</div>"
      ],
      "text/plain": [
       "  lshl_typ med_type rshl_typ surf_typ road_inv  spd_limt  begmp  endmp  \\\n",
       "0     None     None     None     None      002      30.0   0.00   0.04   \n",
       "1     None     None     None     None      002      30.0   0.04   0.11   \n",
       "2     None     None     None     None      002      30.0   0.11   0.13   \n",
       "3        C        O        C        A      002      55.0   0.13   0.14   \n",
       "4        C        O        C        A      002      55.0   0.14   0.16   \n",
       "\n",
       "   lanewid  no_lanes     ...      aadt_08  acc_ct_08  aadt_09  acc_ct_09  \\\n",
       "0       40         1     ...       9361.0        0.0   9545.0        0.0   \n",
       "1       20         2     ...       9361.0        0.0   9545.0        0.0   \n",
       "2       20         2     ...      12104.0        0.0  12342.0        0.0   \n",
       "3       27         4     ...      23222.0        0.0  23679.0        1.0   \n",
       "4       23         4     ...      23222.0        2.0  23679.0        3.0   \n",
       "\n",
       "   aadt_10  acc_ct_10  aadt_11  acc_ct_11      avg_aadt  tot_acc_ct  \n",
       "0   6482.0        0.0   6447.0        1.0   8294.666667         4.0  \n",
       "1   6482.0        0.0   6447.0        0.0   8294.666667         1.0  \n",
       "2   9036.0        0.0   8987.0        0.0  10532.000000         1.0  \n",
       "3  22821.0        0.0  22698.0        0.0  20742.000000         1.0  \n",
       "4  22821.0        0.0  22698.0        2.0  20742.000000        11.0  \n",
       "\n",
       "[5 rows x 35 columns]"
      ]
     },
     "execution_count": 5,
     "metadata": {},
     "output_type": "execute_result"
    }
   ],
   "source": [
    "crash_data = get_data()\n",
    "crash_data.head()"
   ]
  },
  {
   "cell_type": "code",
   "execution_count": 6,
   "metadata": {
    "collapsed": false,
    "scrolled": true
   },
   "outputs": [
    {
     "data": {
      "image/png": "[encoded data removed]",
      "text/plain": [
       "<matplotlib.figure.Figure at 0x24460fb7080>"
      ]
     },
     "metadata": {},
     "output_type": "display_data"
    }
   ],
   "source": [
    "plot_x_vs_y()"
   ]
  },
  {
   "cell_type": "code",
   "execution_count": 7,
   "metadata": {
    "collapsed": false,
    "scrolled": false
   },
   "outputs": [
    {
     "data": {
      "text/html": [
       "<iframe id=\"igraph\" scrolling=\"no\" style=\"border:none;\" seamless=\"seamless\" src=\"https://plot.ly/~charleyjoo/1.embed\" height=\"525px\" width=\"100%\"></iframe>"
      ],
      "text/plain": [
       "<plotly.tools.PlotlyDisplay object>"
      ]
     },
     "execution_count": 7,
     "metadata": {},
     "output_type": "execute_result"
    }
   ],
   "source": [
    "fig = plot_scatter(x='Average AADT', y='Total Accident Count')\n",
    "plt.xlim(xmin=0)\n",
    "py.iplot_mpl(fig, strip_style = True, filename='ipython/mpl_example')"
   ]
  },
  {
   "cell_type": "code",
   "execution_count": null,
   "metadata": {
    "collapsed": true
   },
   "outputs": [],
   "source": []
  }
 ],
 "metadata": {
  "kernelspec": {
   "display_name": "Python 3",
   "language": "python",
   "name": "python3"
  },
  "language_info": {
   "codemirror_mode": {
    "name": "ipython",
    "version": 3
   },
   "file_extension": ".py",
   "mimetype": "text/x-python",
   "name": "python",
   "nbconvert_exporter": "python",
   "pygments_lexer": "ipython3",
   "version": "3.5.1"
  }
 },
 "nbformat": 4,
 "nbformat_minor": 0
}
