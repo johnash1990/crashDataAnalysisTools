{
 "cells": [
  {
   "cell_type": "markdown",
   "metadata": {},
   "source": [
    "# Guided Walkthrough of Crash Modeling Tools"
   ]
  },
  {
   "cell_type": "markdown",
   "metadata": {},
   "source": [
    "First, perform the necessary imports."
   ]
  },
  {
   "cell_type": "code",
   "execution_count": 1,
   "metadata": {
    "collapsed": false
   },
   "outputs": [],
   "source": [
    "from crash_modeling_tools import *\n",
    "import numpy as np\n",
    "import pandas as pd\n",
    "import statsmodels.formula.api as smf\n",
    "import statsmodels.api as sm"
   ]
  },
  {
   "cell_type": "markdown",
   "metadata": {},
   "source": [
    "## Load in the initial data and see what predictors are available\n",
    "Here we will look at crash data from I-90 in Washington State. The purpose of this demo is to show how the tool works, not to provide specific model results with deep meaning."
   ]
  },
  {
   "cell_type": "code",
   "execution_count": 2,
   "metadata": {
    "collapsed": false
   },
   "outputs": [
    {
     "data": {
      "text/html": [
       "<div>\n",
       "<table border=\"1\" class=\"dataframe\">\n",
       "  <thead>\n",
       "    <tr style=\"text-align: right;\">\n",
       "      <th></th>\n",
       "      <th>surf_typ</th>\n",
       "      <th>road_inv</th>\n",
       "      <th>lanewid</th>\n",
       "      <th>no_lanes</th>\n",
       "      <th>lshldwid</th>\n",
       "      <th>rshldwid</th>\n",
       "      <th>medwid</th>\n",
       "      <th>seg_lng</th>\n",
       "      <th>avg_grad</th>\n",
       "      <th>curve</th>\n",
       "      <th>aadt_09</th>\n",
       "      <th>acc_ct_09</th>\n",
       "      <th>aadt_10</th>\n",
       "      <th>acc_ct_10</th>\n",
       "      <th>aadt_11</th>\n",
       "      <th>acc_ct_11</th>\n",
       "      <th>avg_aadt</th>\n",
       "      <th>tot_acc_ct</th>\n",
       "      <th>log_avg_aadt</th>\n",
       "    </tr>\n",
       "  </thead>\n",
       "  <tbody>\n",
       "    <tr>\n",
       "      <th>0</th>\n",
       "      <td>P</td>\n",
       "      <td>90</td>\n",
       "      <td>17</td>\n",
       "      <td>5</td>\n",
       "      <td>0</td>\n",
       "      <td>0</td>\n",
       "      <td>9</td>\n",
       "      <td>0.06</td>\n",
       "      <td>0.005839</td>\n",
       "      <td>Y</td>\n",
       "      <td>37402</td>\n",
       "      <td>8</td>\n",
       "      <td>38202</td>\n",
       "      <td>4</td>\n",
       "      <td>39409</td>\n",
       "      <td>4</td>\n",
       "      <td>38337.66667</td>\n",
       "      <td>16</td>\n",
       "      <td>10.55418816</td>\n",
       "    </tr>\n",
       "    <tr>\n",
       "      <th>1</th>\n",
       "      <td>P</td>\n",
       "      <td>90</td>\n",
       "      <td>17</td>\n",
       "      <td>5</td>\n",
       "      <td>0</td>\n",
       "      <td>0</td>\n",
       "      <td>50</td>\n",
       "      <td>0.02</td>\n",
       "      <td>0.008842</td>\n",
       "      <td>N</td>\n",
       "      <td>37402</td>\n",
       "      <td>6</td>\n",
       "      <td>38202</td>\n",
       "      <td>1</td>\n",
       "      <td>39409</td>\n",
       "      <td>5</td>\n",
       "      <td>38337.66667</td>\n",
       "      <td>12</td>\n",
       "      <td>10.55418816</td>\n",
       "    </tr>\n",
       "    <tr>\n",
       "      <th>2</th>\n",
       "      <td>P</td>\n",
       "      <td>90</td>\n",
       "      <td>21</td>\n",
       "      <td>4</td>\n",
       "      <td>0</td>\n",
       "      <td>0</td>\n",
       "      <td>50</td>\n",
       "      <td>0.02</td>\n",
       "      <td>0.030771</td>\n",
       "      <td>N</td>\n",
       "      <td>37402</td>\n",
       "      <td>0</td>\n",
       "      <td>38202</td>\n",
       "      <td>1</td>\n",
       "      <td>39409</td>\n",
       "      <td>1</td>\n",
       "      <td>38337.66667</td>\n",
       "      <td>2</td>\n",
       "      <td>10.55418816</td>\n",
       "    </tr>\n",
       "    <tr>\n",
       "      <th>3</th>\n",
       "      <td>P</td>\n",
       "      <td>90</td>\n",
       "      <td>21</td>\n",
       "      <td>4</td>\n",
       "      <td>0</td>\n",
       "      <td>0</td>\n",
       "      <td>50</td>\n",
       "      <td>0.02</td>\n",
       "      <td>0.028461</td>\n",
       "      <td>N</td>\n",
       "      <td>37402</td>\n",
       "      <td>0</td>\n",
       "      <td>38202</td>\n",
       "      <td>0</td>\n",
       "      <td>39409</td>\n",
       "      <td>1</td>\n",
       "      <td>38337.66667</td>\n",
       "      <td>1</td>\n",
       "      <td>10.55418816</td>\n",
       "    </tr>\n",
       "    <tr>\n",
       "      <th>4</th>\n",
       "      <td>P</td>\n",
       "      <td>90</td>\n",
       "      <td>21</td>\n",
       "      <td>4</td>\n",
       "      <td>0</td>\n",
       "      <td>0</td>\n",
       "      <td>50</td>\n",
       "      <td>0.09</td>\n",
       "      <td>0.023726</td>\n",
       "      <td>Y</td>\n",
       "      <td>37402</td>\n",
       "      <td>1</td>\n",
       "      <td>38202</td>\n",
       "      <td>2</td>\n",
       "      <td>39409</td>\n",
       "      <td>1</td>\n",
       "      <td>38337.66667</td>\n",
       "      <td>4</td>\n",
       "      <td>10.55418816</td>\n",
       "    </tr>\n",
       "  </tbody>\n",
       "</table>\n",
       "</div>"
      ],
      "text/plain": [
       "  surf_typ  road_inv  lanewid  no_lanes  lshldwid  rshldwid  medwid  seg_lng  \\\n",
       "0        P        90       17         5         0         0       9     0.06   \n",
       "1        P        90       17         5         0         0      50     0.02   \n",
       "2        P        90       21         4         0         0      50     0.02   \n",
       "3        P        90       21         4         0         0      50     0.02   \n",
       "4        P        90       21         4         0         0      50     0.09   \n",
       "\n",
       "   avg_grad curve  aadt_09  acc_ct_09  aadt_10  acc_ct_10  aadt_11  acc_ct_11  \\\n",
       "0  0.005839     Y    37402          8    38202          4    39409          4   \n",
       "1  0.008842     N    37402          6    38202          1    39409          5   \n",
       "2  0.030771     N    37402          0    38202          1    39409          1   \n",
       "3  0.028461     N    37402          0    38202          0    39409          1   \n",
       "4  0.023726     Y    37402          1    38202          2    39409          1   \n",
       "\n",
       "      avg_aadt  tot_acc_ct log_avg_aadt  \n",
       "0  38337.66667          16  10.55418816  \n",
       "1  38337.66667          12  10.55418816  \n",
       "2  38337.66667           2  10.55418816  \n",
       "3  38337.66667           1  10.55418816  \n",
       "4  38337.66667           4  10.55418816  "
      ]
     },
     "execution_count": 2,
     "metadata": {},
     "output_type": "execute_result"
    }
   ],
   "source": [
    "crash_data = pd.read_csv('../data/crash_modeling_tools_demo_data/crash_data_final_90.csv')\n",
    "crash_data = crash_data.dropna()\n",
    "crash_data.head()"
   ]
  },
  {
   "cell_type": "markdown",
   "metadata": {},
   "source": [
    "## Observe the summary statistics for the variables in our dataset\n",
    "Here we consider two types of variables, namely continuous (cont) and categorical (cat). Below, we provide descriptions of each variable as well as its type. \n",
    "### Note: Not all variables will be used in the modeling.\n",
    "- surf_typ (cat): surface type\n",
    "- road_inv (n/a): road inventory number (i.e., route number), not a variable\n",
    "- lanewid (cont): lane width in feet\n",
    "- no_lanes (cont): number of lanes\n",
    "- lshldwid (cont): left shoulder width in feet\n",
    "- rshldwid (cont): right shoulder width in feet\n",
    "- medwid (cont): median width in feet\n",
    "- seg_lng (cont): segment length in feet\n",
    "- avg_grad (cont): average grade of the road segment\n",
    "- curve (cat): indicator for presence of curvature on the road segment\n",
    "- aadt_09 (cont): annual average daily traffic count for road segment in 2009\n",
    "- acc_ct_09 (cont): accident count for road segment in 2009\n",
    "- aadt_10 (cont): annual average daily traffic count for road segment in 2010\n",
    "- acc_ct_10 (cont): accident count for road segment in 2010\n",
    "- aadt_1 (cont): annual average daily traffic count for road segment in 2011\n",
    "- acc_ct_11 (cont): accident count for road segment in 2011\n",
    "- avg_addt (cont): average value of annual average daily traffic count for road segment from 2009-2011\n",
    "- tot_acc_count (cont): total accident count for road segment from 2009-2011\n",
    "- log_avg_aadt(cont): natural logarithm of annual average daily traffic count from 2009-2011"
   ]
  },
  {
   "cell_type": "markdown",
   "metadata": {},
   "source": [
    "## Show summary stats for the categorical variables we will consider"
   ]
  },
  {
   "cell_type": "code",
   "execution_count": 3,
   "metadata": {
    "collapsed": false
   },
   "outputs": [
    {
     "data": {
      "text/html": [
       "<div>\n",
       "<table border=\"1\" class=\"dataframe\">\n",
       "  <thead>\n",
       "    <tr style=\"text-align: right;\">\n",
       "      <th></th>\n",
       "      <th>surf_typ</th>\n",
       "      <th>curve</th>\n",
       "    </tr>\n",
       "  </thead>\n",
       "  <tbody>\n",
       "    <tr>\n",
       "      <th>count</th>\n",
       "      <td>480</td>\n",
       "      <td>480</td>\n",
       "    </tr>\n",
       "    <tr>\n",
       "      <th>unique</th>\n",
       "      <td>3</td>\n",
       "      <td>2</td>\n",
       "    </tr>\n",
       "    <tr>\n",
       "      <th>top</th>\n",
       "      <td>P</td>\n",
       "      <td>N</td>\n",
       "    </tr>\n",
       "    <tr>\n",
       "      <th>freq</th>\n",
       "      <td>348</td>\n",
       "      <td>389</td>\n",
       "    </tr>\n",
       "  </tbody>\n",
       "</table>\n",
       "</div>"
      ],
      "text/plain": [
       "       surf_typ curve\n",
       "count       480   480\n",
       "unique        3     2\n",
       "top           P     N\n",
       "freq        348   389"
      ]
     },
     "execution_count": 3,
     "metadata": {},
     "output_type": "execute_result"
    }
   ],
   "source": [
    "show_summary_stats(crash_data,[0,9])"
   ]
  },
  {
   "cell_type": "markdown",
   "metadata": {},
   "source": [
    "## Show summary stats for the continuous variables"
   ]
  },
  {
   "cell_type": "code",
   "execution_count": 4,
   "metadata": {
    "collapsed": false
   },
   "outputs": [
    {
     "data": {
      "text/html": [
       "<div>\n",
       "<table border=\"1\" class=\"dataframe\">\n",
       "  <thead>\n",
       "    <tr style=\"text-align: right;\">\n",
       "      <th></th>\n",
       "      <th>road_inv</th>\n",
       "      <th>lanewid</th>\n",
       "      <th>no_lanes</th>\n",
       "      <th>lshldwid</th>\n",
       "      <th>rshldwid</th>\n",
       "      <th>medwid</th>\n",
       "      <th>seg_lng</th>\n",
       "      <th>avg_grad</th>\n",
       "      <th>aadt_09</th>\n",
       "      <th>acc_ct_09</th>\n",
       "      <th>aadt_10</th>\n",
       "      <th>acc_ct_10</th>\n",
       "      <th>aadt_11</th>\n",
       "      <th>acc_ct_11</th>\n",
       "      <th>tot_acc_ct</th>\n",
       "    </tr>\n",
       "  </thead>\n",
       "  <tbody>\n",
       "    <tr>\n",
       "      <th>count</th>\n",
       "      <td>480</td>\n",
       "      <td>480.00000</td>\n",
       "      <td>480.000000</td>\n",
       "      <td>480.000000</td>\n",
       "      <td>480.000000</td>\n",
       "      <td>480.000000</td>\n",
       "      <td>480.000000</td>\n",
       "      <td>480.000000</td>\n",
       "      <td>480.000000</td>\n",
       "      <td>480.00000</td>\n",
       "      <td>480.000000</td>\n",
       "      <td>480.000000</td>\n",
       "      <td>480.000000</td>\n",
       "      <td>480.000000</td>\n",
       "      <td>480.000000</td>\n",
       "    </tr>\n",
       "    <tr>\n",
       "      <th>mean</th>\n",
       "      <td>90</td>\n",
       "      <td>13.46875</td>\n",
       "      <td>6.200000</td>\n",
       "      <td>5.766667</td>\n",
       "      <td>8.031250</td>\n",
       "      <td>100.056250</td>\n",
       "      <td>0.089375</td>\n",
       "      <td>0.007154</td>\n",
       "      <td>63475.050000</td>\n",
       "      <td>1.33750</td>\n",
       "      <td>64947.141667</td>\n",
       "      <td>1.325000</td>\n",
       "      <td>65467.191667</td>\n",
       "      <td>1.368750</td>\n",
       "      <td>4.031250</td>\n",
       "    </tr>\n",
       "    <tr>\n",
       "      <th>std</th>\n",
       "      <td>0</td>\n",
       "      <td>3.02858</td>\n",
       "      <td>0.921558</td>\n",
       "      <td>3.944782</td>\n",
       "      <td>4.685636</td>\n",
       "      <td>125.393206</td>\n",
       "      <td>0.146069</td>\n",
       "      <td>0.051335</td>\n",
       "      <td>39300.517376</td>\n",
       "      <td>2.64509</td>\n",
       "      <td>40128.620670</td>\n",
       "      <td>2.715955</td>\n",
       "      <td>41123.621141</td>\n",
       "      <td>3.112951</td>\n",
       "      <td>7.857357</td>\n",
       "    </tr>\n",
       "    <tr>\n",
       "      <th>min</th>\n",
       "      <td>90</td>\n",
       "      <td>12.00000</td>\n",
       "      <td>4.000000</td>\n",
       "      <td>0.000000</td>\n",
       "      <td>0.000000</td>\n",
       "      <td>9.000000</td>\n",
       "      <td>0.010000</td>\n",
       "      <td>-0.052782</td>\n",
       "      <td>9867.000000</td>\n",
       "      <td>0.00000</td>\n",
       "      <td>9541.000000</td>\n",
       "      <td>0.000000</td>\n",
       "      <td>9198.000000</td>\n",
       "      <td>0.000000</td>\n",
       "      <td>0.000000</td>\n",
       "    </tr>\n",
       "    <tr>\n",
       "      <th>25%</th>\n",
       "      <td>90</td>\n",
       "      <td>12.00000</td>\n",
       "      <td>6.000000</td>\n",
       "      <td>0.000000</td>\n",
       "      <td>10.000000</td>\n",
       "      <td>48.000000</td>\n",
       "      <td>0.010000</td>\n",
       "      <td>-0.011502</td>\n",
       "      <td>30137.250000</td>\n",
       "      <td>0.00000</td>\n",
       "      <td>30717.250000</td>\n",
       "      <td>0.000000</td>\n",
       "      <td>29736.000000</td>\n",
       "      <td>0.000000</td>\n",
       "      <td>0.000000</td>\n",
       "    </tr>\n",
       "    <tr>\n",
       "      <th>50%</th>\n",
       "      <td>90</td>\n",
       "      <td>12.00000</td>\n",
       "      <td>6.000000</td>\n",
       "      <td>6.000000</td>\n",
       "      <td>10.000000</td>\n",
       "      <td>70.000000</td>\n",
       "      <td>0.040000</td>\n",
       "      <td>0.005799</td>\n",
       "      <td>54086.000000</td>\n",
       "      <td>1.00000</td>\n",
       "      <td>55173.000000</td>\n",
       "      <td>0.000000</td>\n",
       "      <td>55482.000000</td>\n",
       "      <td>0.000000</td>\n",
       "      <td>2.000000</td>\n",
       "    </tr>\n",
       "    <tr>\n",
       "      <th>75%</th>\n",
       "      <td>90</td>\n",
       "      <td>13.25000</td>\n",
       "      <td>7.000000</td>\n",
       "      <td>10.000000</td>\n",
       "      <td>10.000000</td>\n",
       "      <td>100.000000</td>\n",
       "      <td>0.100000</td>\n",
       "      <td>0.022863</td>\n",
       "      <td>101936.000000</td>\n",
       "      <td>2.00000</td>\n",
       "      <td>104117.000000</td>\n",
       "      <td>2.000000</td>\n",
       "      <td>107407.000000</td>\n",
       "      <td>1.000000</td>\n",
       "      <td>4.250000</td>\n",
       "    </tr>\n",
       "    <tr>\n",
       "      <th>max</th>\n",
       "      <td>90</td>\n",
       "      <td>26.00000</td>\n",
       "      <td>9.000000</td>\n",
       "      <td>18.000000</td>\n",
       "      <td>22.000000</td>\n",
       "      <td>999.000000</td>\n",
       "      <td>1.510000</td>\n",
       "      <td>1.000000</td>\n",
       "      <td>145774.000000</td>\n",
       "      <td>26.00000</td>\n",
       "      <td>149245.000000</td>\n",
       "      <td>31.000000</td>\n",
       "      <td>150021.000000</td>\n",
       "      <td>40.000000</td>\n",
       "      <td>97.000000</td>\n",
       "    </tr>\n",
       "  </tbody>\n",
       "</table>\n",
       "</div>"
      ],
      "text/plain": [
       "       road_inv    lanewid    no_lanes    lshldwid    rshldwid      medwid  \\\n",
       "count       480  480.00000  480.000000  480.000000  480.000000  480.000000   \n",
       "mean         90   13.46875    6.200000    5.766667    8.031250  100.056250   \n",
       "std           0    3.02858    0.921558    3.944782    4.685636  125.393206   \n",
       "min          90   12.00000    4.000000    0.000000    0.000000    9.000000   \n",
       "25%          90   12.00000    6.000000    0.000000   10.000000   48.000000   \n",
       "50%          90   12.00000    6.000000    6.000000   10.000000   70.000000   \n",
       "75%          90   13.25000    7.000000   10.000000   10.000000  100.000000   \n",
       "max          90   26.00000    9.000000   18.000000   22.000000  999.000000   \n",
       "\n",
       "          seg_lng    avg_grad        aadt_09  acc_ct_09        aadt_10  \\\n",
       "count  480.000000  480.000000     480.000000  480.00000     480.000000   \n",
       "mean     0.089375    0.007154   63475.050000    1.33750   64947.141667   \n",
       "std      0.146069    0.051335   39300.517376    2.64509   40128.620670   \n",
       "min      0.010000   -0.052782    9867.000000    0.00000    9541.000000   \n",
       "25%      0.010000   -0.011502   30137.250000    0.00000   30717.250000   \n",
       "50%      0.040000    0.005799   54086.000000    1.00000   55173.000000   \n",
       "75%      0.100000    0.022863  101936.000000    2.00000  104117.000000   \n",
       "max      1.510000    1.000000  145774.000000   26.00000  149245.000000   \n",
       "\n",
       "        acc_ct_10        aadt_11   acc_ct_11  tot_acc_ct  \n",
       "count  480.000000     480.000000  480.000000  480.000000  \n",
       "mean     1.325000   65467.191667    1.368750    4.031250  \n",
       "std      2.715955   41123.621141    3.112951    7.857357  \n",
       "min      0.000000    9198.000000    0.000000    0.000000  \n",
       "25%      0.000000   29736.000000    0.000000    0.000000  \n",
       "50%      0.000000   55482.000000    0.000000    2.000000  \n",
       "75%      2.000000  107407.000000    1.000000    4.250000  \n",
       "max     31.000000  150021.000000   40.000000   97.000000  "
      ]
     },
     "execution_count": 4,
     "metadata": {},
     "output_type": "execute_result"
    }
   ],
   "source": [
    "show_summary_stats(crash_data)"
   ]
  },
  {
   "cell_type": "markdown",
   "metadata": {},
   "source": [
    "## Develop a crash frequency model\n",
    "Here, we develop a model to predict crash frequency as a function of several characteristics of the roadway (here, we consider the annual average daily traffic, lane width, average grade, the presence of horizontal curvature, and surface type (e.g., asphalt concrete, portland cement concrete etc.) in our regression model). The model is a **negative binomial (NB) regression model** as is often the standard in highway safety modeling. The NB model is used to model count data and is preferrable to the Poisson model as it does not assume the mean and variance of the data are equal and is able to **account for such overdispersion (variance>mean)** by allowing the Poisson parameter to itself follow a gamma distribution.  **It is critical we include an offset term since the segments are not the same length.**\n",
    "\n",
    "- Mean 3-year crash count in dataset = 2.46\n",
    "- Varance of 3-year crash count in dataset = 26.41 \n",
    "- Variance-to-mean ratio = 10.72 --> Overdispersion"
   ]
  },
  {
   "cell_type": "markdown",
   "metadata": {},
   "source": [
    "### First compute the offset term \n",
    "The offset term equals the natural logarithm of the segment length times the duration of the study period (here, we consider 3 years: 2009, 2010, and 2011)"
   ]
  },
  {
   "cell_type": "code",
   "execution_count": 5,
   "metadata": {
    "collapsed": false
   },
   "outputs": [],
   "source": [
    "offset_term = np.log(crash_data['seg_lng'] * 3)"
   ]
  },
  {
   "cell_type": "markdown",
   "metadata": {},
   "source": [
    "### Now estimate the regression model and output the summary"
   ]
  },
  {
   "cell_type": "code",
   "execution_count": 6,
   "metadata": {
    "collapsed": false
   },
   "outputs": [
    {
     "data": {
      "text/html": [
       "<table class=\"simpletable\">\n",
       "<caption>Generalized Linear Model Regression Results</caption>\n",
       "<tr>\n",
       "  <th>Dep. Variable:</th>     <td>tot_acc_ct</td>    <th>  No. Observations:  </th>    <td>   480</td>    \n",
       "</tr>\n",
       "<tr>\n",
       "  <th>Model:</th>                 <td>GLM</td>       <th>  Df Residuals:      </th>    <td>   473</td>    \n",
       "</tr>\n",
       "<tr>\n",
       "  <th>Model Family:</th>   <td>NegativeBinomial</td> <th>  Df Model:          </th>    <td>     6</td>    \n",
       "</tr>\n",
       "<tr>\n",
       "  <th>Link Function:</th>         <td>log</td>       <th>  Scale:             </th> <td>1.79742136888</td>\n",
       "</tr>\n",
       "<tr>\n",
       "  <th>Method:</th>               <td>IRLS</td>       <th>  Log-Likelihood:    </th>   <td> -1066.9</td>   \n",
       "</tr>\n",
       "<tr>\n",
       "  <th>Date:</th>           <td>Tue, 15 Mar 2016</td> <th>  Deviance:          </th>   <td>  489.80</td>   \n",
       "</tr>\n",
       "<tr>\n",
       "  <th>Time:</th>               <td>13:00:00</td>     <th>  Pearson chi2:      </th>    <td>  850.</td>    \n",
       "</tr>\n",
       "<tr>\n",
       "  <th>No. Iterations:</th>        <td>23</td>        <th>                     </th>       <td> </td>      \n",
       "</tr>\n",
       "</table>\n",
       "<table class=\"simpletable\">\n",
       "<tr>\n",
       "          <td></td>            <th>coef</th>     <th>std err</th>      <th>z</th>      <th>P>|z|</th> <th>[95.0% Conf. Int.]</th> \n",
       "</tr>\n",
       "<tr>\n",
       "  <th>Intercept</th>        <td>   -6.0144</td> <td>    1.482</td> <td>   -4.059</td> <td> 0.000</td> <td>   -8.919    -3.110</td>\n",
       "</tr>\n",
       "<tr>\n",
       "  <th>C(curve)[T.Y]</th>    <td>   -0.4195</td> <td>    0.185</td> <td>   -2.265</td> <td> 0.023</td> <td>   -0.782    -0.057</td>\n",
       "</tr>\n",
       "<tr>\n",
       "  <th>C(surf_typ)[T.B]</th> <td>  -20.5734</td> <td> 5.65e+04</td> <td>   -0.000</td> <td> 1.000</td> <td>-1.11e+05  1.11e+05</td>\n",
       "</tr>\n",
       "<tr>\n",
       "  <th>C(surf_typ)[T.P]</th> <td>    0.2804</td> <td>    0.187</td> <td>    1.495</td> <td> 0.135</td> <td>   -0.087     0.648</td>\n",
       "</tr>\n",
       "<tr>\n",
       "  <th>log_aadt</th>         <td>    0.7762</td> <td>    0.133</td> <td>    5.853</td> <td> 0.000</td> <td>    0.516     1.036</td>\n",
       "</tr>\n",
       "<tr>\n",
       "  <th>lanewid</th>          <td>    0.0324</td> <td>    0.025</td> <td>    1.279</td> <td> 0.201</td> <td>   -0.017     0.082</td>\n",
       "</tr>\n",
       "<tr>\n",
       "  <th>avg_grad</th>         <td>    0.2042</td> <td>    1.306</td> <td>    0.156</td> <td> 0.876</td> <td>   -2.355     2.763</td>\n",
       "</tr>\n",
       "</table>"
      ],
      "text/plain": [
       "<class 'statsmodels.iolib.summary.Summary'>\n",
       "\"\"\"\n",
       "                 Generalized Linear Model Regression Results                  \n",
       "==============================================================================\n",
       "Dep. Variable:             tot_acc_ct   No. Observations:                  480\n",
       "Model:                            GLM   Df Residuals:                      473\n",
       "Model Family:        NegativeBinomial   Df Model:                            6\n",
       "Link Function:                    log   Scale:                   1.79742136888\n",
       "Method:                          IRLS   Log-Likelihood:                -1066.9\n",
       "Date:                Tue, 15 Mar 2016   Deviance:                       489.80\n",
       "Time:                        13:00:00   Pearson chi2:                     850.\n",
       "No. Iterations:                    23                                         \n",
       "====================================================================================\n",
       "                       coef    std err          z      P>|z|      [95.0% Conf. Int.]\n",
       "------------------------------------------------------------------------------------\n",
       "Intercept           -6.0144      1.482     -4.059      0.000        -8.919    -3.110\n",
       "C(curve)[T.Y]       -0.4195      0.185     -2.265      0.023        -0.782    -0.057\n",
       "C(surf_typ)[T.B]   -20.5734   5.65e+04     -0.000      1.000     -1.11e+05  1.11e+05\n",
       "C(surf_typ)[T.P]     0.2804      0.187      1.495      0.135        -0.087     0.648\n",
       "log_aadt             0.7762      0.133      5.853      0.000         0.516     1.036\n",
       "lanewid              0.0324      0.025      1.279      0.201        -0.017     0.082\n",
       "avg_grad             0.2042      1.306      0.156      0.876        -2.355     2.763\n",
       "====================================================================================\n",
       "\"\"\""
      ]
     },
     "execution_count": 6,
     "metadata": {},
     "output_type": "execute_result"
    }
   ],
   "source": [
    "# need to cast log_avg_aadt to float since statsmodels thinks (incorrectly) that it is categorical\n",
    "crash_data['log_aadt'] = crash_data.log_avg_aadt.astype(np.float)\n",
    "mod_nb = smf.glm('tot_acc_ct~log_aadt+lanewid+avg_grad+C(curve)+C(surf_typ)',data=crash_data,offset=offset_term,\n",
    "                 family=sm.families.NegativeBinomial()).fit()\n",
    "mod_nb.summary()"
   ]
  },
  {
   "cell_type": "markdown",
   "metadata": {},
   "source": [
    "## We will now compute the value of the safety performance function (spf) on a data set also from I-90\n",
    "The spf simply involves computing the value of the regression model for a set of sites (i.e., road segments). The results returned are the predicted crash counts for the segments as estimated via the previously developed NB regression model."
   ]
  },
  {
   "cell_type": "code",
   "execution_count": 7,
   "metadata": {
    "collapsed": false
   },
   "outputs": [
    {
     "data": {
      "text/plain": [
       "array([ 13.33072731,  20.29096251,  23.20022988, ...,  18.76243423,\n",
       "        14.9408838 ,  14.94893462])"
      ]
     },
     "execution_count": 7,
     "metadata": {},
     "output_type": "execute_result"
    }
   ],
   "source": [
    "data_eb = pd.read_csv('../data/crash_modeling_tools_demo_data/crash_data_eb.csv')\n",
    "data_eb = data_eb.dropna()\n",
    "data_eb['log_aadt'] = data_eb.log_avg_aadt.astype(np.float)\n",
    "compute_spf(mod_nb,data_eb)"
   ]
  },
  {
   "cell_type": "markdown",
   "metadata": {},
   "source": [
    "## Implementation of the Emprical Bayes Method\n",
    "Now, we will apply the Emprical Bayes (EB) method to computed the expected safety for each road segment. The EB method combines the expected crash count for each site as computed from the NB regression model and the observed crash count at each site in a weighted sum, where the weight factor is based on the dispersion parameter associated with the NB model (i.e., 1/scale parameter).\n",
    "\n",
    "The EB method has many benefits including:\n",
    "- Easier to implement than full Bayes method\n",
    "- Takes into account variance of the SPF (i.e., regression model) estimate\n",
    "- Provides more robust estimate of site safety by considering observed crash count in conjunction with predicted crash count from similar sites\n",
    "\n",
    "The EB method is formulated as follows:\n",
    "$${\\pi}_i = w_i*SPF_i + (1-w_i)*K_i$$\n",
    "Where,\n",
    "- ${\\pi}_i$ = expected safety for site i\n",
    "- $w_i$ = weight factor for site i\n",
    "- $SPF_i$ = safety performance function for site i\n",
    "- $K_i$ = observed crash count for site i\n",
    "\n",
    "The weight factor $w_i$ is calculated as follows:\n",
    "$$w_i = 1 / (1 + SPF_i/(kL_i))$$\n",
    "Where,\n",
    "- $k = 1/(NB scale parameter)$\n",
    "- $L_i$ = segment length\n",
    "- All other variables as aforementioned\n",
    "\n",
    "\n",
    "Below, we calculate the EB esimates for each site and display the first few rows (not ranked in any specific order):"
   ]
  },
  {
   "cell_type": "code",
   "execution_count": 8,
   "metadata": {
    "collapsed": false
   },
   "outputs": [
    {
     "data": {
      "text/html": [
       "<div>\n",
       "<table border=\"1\" class=\"dataframe\">\n",
       "  <thead>\n",
       "    <tr style=\"text-align: right;\">\n",
       "      <th></th>\n",
       "      <th>Safety</th>\n",
       "    </tr>\n",
       "  </thead>\n",
       "  <tbody>\n",
       "    <tr>\n",
       "      <th>0</th>\n",
       "      <td>15.993333</td>\n",
       "    </tr>\n",
       "    <tr>\n",
       "      <th>1</th>\n",
       "      <td>12.004544</td>\n",
       "    </tr>\n",
       "    <tr>\n",
       "      <th>2</th>\n",
       "      <td>2.010163</td>\n",
       "    </tr>\n",
       "    <tr>\n",
       "      <th>3</th>\n",
       "      <td>1.010642</td>\n",
       "    </tr>\n",
       "    <tr>\n",
       "      <th>4</th>\n",
       "      <td>4.036799</td>\n",
       "    </tr>\n",
       "  </tbody>\n",
       "</table>\n",
       "</div>"
      ],
      "text/plain": [
       "      Safety\n",
       "0  15.993333\n",
       "1  12.004544\n",
       "2   2.010163\n",
       "3   1.010642\n",
       "4   4.036799"
      ]
     },
     "execution_count": 8,
     "metadata": {},
     "output_type": "execute_result"
    }
   ],
   "source": [
    "eb_safety_estimates = estimate_empirical_bayes(mod_nb,data_eb,data_eb['seg_lng'],data_eb['tot_acc_ct'])\n",
    "eb_safety_estimates.head()"
   ]
  },
  {
   "cell_type": "markdown",
   "metadata": {},
   "source": [
    "## Calculation of Accident Reduction Potential\n",
    "\n",
    "Accident Reduction Potential (ARP) is a commonly used method to rank/prioritize sites for safety improvement/treatment implementation. If $K_i$ (i.e., the observed crash count) is greater than $SPF_i$ (i.e., the predicted crash count), the ARP increases in value (compared to the converse) and the given site will be a high priority for treatment. The closer the value of $w_i$ is to 1, the higher the variance associated with the SPF, thus corresponding to lower ARP (low priority for treatment).\n",
    "\n",
    "ARP is calculated as follows:\n",
    "$$ARP_i = (1-w_i)(K_i-SPF_i)$$\n",
    "Where,\n",
    "- $ARP_i$ = accident reduction potential for site i\n",
    "- $w_i$ = weight factor for site i\n",
    "- $SPF_i$ = safety performance function for site i\n",
    "- $K_i$ = observed crash count for site i\n",
    "\n",
    "Below, we calculate ARP and show a few values (not in any particular order):"
   ]
  },
  {
   "cell_type": "code",
   "execution_count": 9,
   "metadata": {
    "collapsed": false
   },
   "outputs": [
    {
     "data": {
      "text/html": [
       "<div>\n",
       "<table border=\"1\" class=\"dataframe\">\n",
       "  <thead>\n",
       "    <tr style=\"text-align: right;\">\n",
       "      <th></th>\n",
       "      <th>ARP</th>\n",
       "    </tr>\n",
       "  </thead>\n",
       "  <tbody>\n",
       "    <tr>\n",
       "      <th>0</th>\n",
       "      <td>2.662605</td>\n",
       "    </tr>\n",
       "    <tr>\n",
       "      <th>1</th>\n",
       "      <td>-8.286418</td>\n",
       "    </tr>\n",
       "    <tr>\n",
       "      <th>2</th>\n",
       "      <td>-21.190067</td>\n",
       "    </tr>\n",
       "    <tr>\n",
       "      <th>3</th>\n",
       "      <td>-22.178651</td>\n",
       "    </tr>\n",
       "    <tr>\n",
       "      <th>4</th>\n",
       "      <td>-11.192678</td>\n",
       "    </tr>\n",
       "  </tbody>\n",
       "</table>\n",
       "</div>"
      ],
      "text/plain": [
       "         ARP\n",
       "0   2.662605\n",
       "1  -8.286418\n",
       "2 -21.190067\n",
       "3 -22.178651\n",
       "4 -11.192678"
      ]
     },
     "execution_count": 9,
     "metadata": {},
     "output_type": "execute_result"
    }
   ],
   "source": [
    "arp = calc_accid_reduc_potential(mod_nb,data_eb,data_eb['seg_lng'],data_eb['tot_acc_ct'])\n",
    "arp.head()"
   ]
  },
  {
   "cell_type": "markdown",
   "metadata": {},
   "source": [
    "## Confidence and Prediction Intervals for Negative Binomial Regression Model\n",
    "The negative binomial model (and all other mixed-Poisson) regression models arise when an error term following a given distibution (known as the mixture distribution) enters the functional form of the Poisson parameter (denoted m). In the case of the NB model, the error term is gamma distributed which further implies that m itself follows a gamma distribution. Ultimately, there are three levels of variation in a mixed-Poisson model. Below, we describe these levels with respect to the NB model. WE then calculate and plot formulas for the confidence intervals (CIs) for $\\mu$ and the prediction intervals (PIs) for m and y, as outlined in Wood (2005). Plotting of CIs and PIs gives a more complete picture for crash modeling as the user is presented with a range of values instead of just a point estimate as is obtained directly from a regression model.\n",
    "\n",
    "**Three Levels of Hierarchy in a Mixed-Poisson Model:**\n",
    "- Lowest level: mean response (**$\\mu$**), also known as the Poisson mean, which itself follows a lognormal distribution (that can be approximated by a normal distribution)\n",
    "- One level up: Poisson parameter (**m**), alternately known as the safety, which when conditioned on the Poisson mean ($\\mu$), follows the mixture distribution (here, gamma)\n",
    "- Finally: predicted response (**y**), i.e., the crash frequency at a new site which when conditioned on the Poisson parameter (m), follows a Poisson distribution\n",
    "\n",
    "Interested users can find full specification of the formulas for the CIs and PIs in the source code or in the reference below.\n",
    "\n",
    "**Reference:**\n",
    "\n",
    "Wood, G. (2005). \"Confidence and prediction intervals for generalised linear accident models\" _Accident Analysis & Prevention_, 37(2), 267-273."
   ]
  },
  {
   "cell_type": "markdown",
   "metadata": {},
   "source": [
    "### Load in the data and compute the variance of the linear predictor"
   ]
  },
  {
   "cell_type": "code",
   "execution_count": 10,
   "metadata": {
    "collapsed": false
   },
   "outputs": [],
   "source": [
    "data_design = pd.read_csv('../data/crash_modeling_tools_demo_data/data_design.csv')\n",
    "var_eta_hat = calc_var_eta_hat(mod_nb,data_design)"
   ]
  },
  {
   "cell_type": "markdown",
   "metadata": {},
   "source": [
    "### Calculate the values of the Poisson mean"
   ]
  },
  {
   "cell_type": "code",
   "execution_count": 11,
   "metadata": {
    "collapsed": false
   },
   "outputs": [
    {
     "data": {
      "text/plain": [
       "array([[  4.70392914],\n",
       "       [  4.74152609],\n",
       "       [  4.77903726],\n",
       "       ..., \n",
       "       [ 39.02027978],\n",
       "       [ 39.04072842],\n",
       "       [ 39.06117412]])"
      ]
     },
     "execution_count": 11,
     "metadata": {},
     "output_type": "execute_result"
    }
   ],
   "source": [
    "mu_hat = calc_mu_hat_nb(mod_nb,data_design)\n",
    "mu_hat"
   ]
  },
  {
   "cell_type": "markdown",
   "metadata": {},
   "source": [
    "### Calculate confidence intervals the Poisson means (mu)"
   ]
  },
  {
   "cell_type": "code",
   "execution_count": 12,
   "metadata": {
    "collapsed": false
   },
   "outputs": [
    {
     "data": {
      "text/html": [
       "<div>\n",
       "<table border=\"1\" class=\"dataframe\">\n",
       "  <thead>\n",
       "    <tr style=\"text-align: right;\">\n",
       "      <th></th>\n",
       "      <th>LB CI mu</th>\n",
       "      <th>UB CI mu</th>\n",
       "    </tr>\n",
       "  </thead>\n",
       "  <tbody>\n",
       "    <tr>\n",
       "      <th>0</th>\n",
       "      <td>2.933718</td>\n",
       "      <td>7.542289</td>\n",
       "    </tr>\n",
       "    <tr>\n",
       "      <th>1</th>\n",
       "      <td>2.962371</td>\n",
       "      <td>7.589214</td>\n",
       "    </tr>\n",
       "    <tr>\n",
       "      <th>2</th>\n",
       "      <td>2.991004</td>\n",
       "      <td>7.635964</td>\n",
       "    </tr>\n",
       "    <tr>\n",
       "      <th>3</th>\n",
       "      <td>3.019616</td>\n",
       "      <td>7.682541</td>\n",
       "    </tr>\n",
       "    <tr>\n",
       "      <th>4</th>\n",
       "      <td>3.048207</td>\n",
       "      <td>7.728949</td>\n",
       "    </tr>\n",
       "  </tbody>\n",
       "</table>\n",
       "</div>"
      ],
      "text/plain": [
       "   LB CI mu  UB CI mu\n",
       "0  2.933718  7.542289\n",
       "1  2.962371  7.589214\n",
       "2  2.991004  7.635964\n",
       "3  3.019616  7.682541\n",
       "4  3.048207  7.728949"
      ]
     },
     "execution_count": 12,
     "metadata": {},
     "output_type": "execute_result"
    }
   ],
   "source": [
    "ci_mu_nb = calc_ci_mu_nb(mu_hat,var_eta_hat)\n",
    "ci_mu_nb.head()"
   ]
  },
  {
   "cell_type": "markdown",
   "metadata": {},
   "source": [
    "### Calculate prediction intervals for the Poisson parameters (m)\n",
    "#### LB = lower bound of interval, UB = upper bound of interval"
   ]
  },
  {
   "cell_type": "code",
   "execution_count": 13,
   "metadata": {
    "collapsed": false
   },
   "outputs": [
    {
     "data": {
      "text/html": [
       "<div>\n",
       "<table border=\"1\" class=\"dataframe\">\n",
       "  <thead>\n",
       "    <tr style=\"text-align: right;\">\n",
       "      <th></th>\n",
       "      <th>LB PI m</th>\n",
       "      <th>UB PI m</th>\n",
       "    </tr>\n",
       "  </thead>\n",
       "  <tbody>\n",
       "    <tr>\n",
       "      <th>0</th>\n",
       "      <td>0</td>\n",
       "      <td>12.117840</td>\n",
       "    </tr>\n",
       "    <tr>\n",
       "      <th>1</th>\n",
       "      <td>0</td>\n",
       "      <td>12.210813</td>\n",
       "    </tr>\n",
       "    <tr>\n",
       "      <th>2</th>\n",
       "      <td>0</td>\n",
       "      <td>12.303559</td>\n",
       "    </tr>\n",
       "    <tr>\n",
       "      <th>3</th>\n",
       "      <td>0</td>\n",
       "      <td>12.396082</td>\n",
       "    </tr>\n",
       "    <tr>\n",
       "      <th>4</th>\n",
       "      <td>0</td>\n",
       "      <td>12.488385</td>\n",
       "    </tr>\n",
       "  </tbody>\n",
       "</table>\n",
       "</div>"
      ],
      "text/plain": [
       "   LB PI m    UB PI m\n",
       "0        0  12.117840\n",
       "1        0  12.210813\n",
       "2        0  12.303559\n",
       "3        0  12.396082\n",
       "4        0  12.488385"
      ]
     },
     "execution_count": 13,
     "metadata": {},
     "output_type": "execute_result"
    }
   ],
   "source": [
    "pi_m_nb = calc_pi_m_nb(mod_nb,mu_hat,var_eta_hat)\n",
    "pi_m_nb.head() "
   ]
  },
  {
   "cell_type": "markdown",
   "metadata": {},
   "source": [
    "### Calculate prediction intervals for the predicted responses (y)"
   ]
  },
  {
   "cell_type": "code",
   "execution_count": 14,
   "metadata": {
    "collapsed": false
   },
   "outputs": [
    {
     "data": {
      "text/html": [
       "<div>\n",
       "<table border=\"1\" class=\"dataframe\">\n",
       "  <thead>\n",
       "    <tr style=\"text-align: right;\">\n",
       "      <th></th>\n",
       "      <th>LB PI y</th>\n",
       "      <th>UB PI y</th>\n",
       "    </tr>\n",
       "  </thead>\n",
       "  <tbody>\n",
       "    <tr>\n",
       "      <th>0</th>\n",
       "      <td>0</td>\n",
       "      <td>21</td>\n",
       "    </tr>\n",
       "    <tr>\n",
       "      <th>1</th>\n",
       "      <td>0</td>\n",
       "      <td>21</td>\n",
       "    </tr>\n",
       "    <tr>\n",
       "      <th>2</th>\n",
       "      <td>0</td>\n",
       "      <td>21</td>\n",
       "    </tr>\n",
       "    <tr>\n",
       "      <th>3</th>\n",
       "      <td>0</td>\n",
       "      <td>21</td>\n",
       "    </tr>\n",
       "    <tr>\n",
       "      <th>4</th>\n",
       "      <td>0</td>\n",
       "      <td>21</td>\n",
       "    </tr>\n",
       "  </tbody>\n",
       "</table>\n",
       "</div>"
      ],
      "text/plain": [
       "   LB PI y  UB PI y\n",
       "0        0       21\n",
       "1        0       21\n",
       "2        0       21\n",
       "3        0       21\n",
       "4        0       21"
      ]
     },
     "execution_count": 14,
     "metadata": {},
     "output_type": "execute_result"
    }
   ],
   "source": [
    "pi_y_nb = calc_pi_y_nb(mod_nb,mu_hat,var_eta_hat)\n",
    "pi_y_nb.head()"
   ]
  },
  {
   "cell_type": "markdown",
   "metadata": {},
   "source": [
    "## Plotting of the Intervals\n",
    "Below, we generate a plot of the aforementioned confidence and prediction intervals (CIs and PIs, respectively) associated with the NB (aka Poisson-gamma) regression model."
   ]
  },
  {
   "cell_type": "code",
   "execution_count": 15,
   "metadata": {
    "collapsed": false
   },
   "outputs": [],
   "source": [
    "% matplotlib inline\n",
    "aadt_range = np.arange(9700,148400,100)"
   ]
  },
  {
   "cell_type": "code",
   "execution_count": 16,
   "metadata": {
    "collapsed": false
   },
   "outputs": [
    {
     "data": {
      "image/png": "[encoded data removed]",
      "text/plain": [
       "<matplotlib.figure.Figure at 0x1097b9f98>"
      ]
     },
     "metadata": {},
     "output_type": "display_data"
    }
   ],
   "source": [
    "plot_and_save_nb_cis_and_pis(data_design,mod_nb,mu_hat,var_eta_hat,aadt_range,'AADT')"
   ]
  },
  {
   "cell_type": "code",
   "execution_count": null,
   "metadata": {
    "collapsed": true
   },
   "outputs": [],
   "source": []
  }
 ],
 "metadata": {
  "kernelspec": {
   "display_name": "Python 3",
   "language": "python",
   "name": "python3"
  },
  "language_info": {
   "codemirror_mode": {
    "name": "ipython",
    "version": 3
   },
   "file_extension": ".py",
   "mimetype": "text/x-python",
   "name": "python",
   "nbconvert_exporter": "python",
   "pygments_lexer": "ipython3",
   "version": "3.5.1"
  }
 },
 "nbformat": 4,
 "nbformat_minor": 0
}
