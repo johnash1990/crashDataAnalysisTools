{
 "cells": [
  {
   "cell_type": "markdown",
   "metadata": {},
   "source": [
    "1 Import libs"
   ]
  },
  {
   "cell_type": "code",
   "execution_count": 1,
   "metadata": {
    "collapsed": true
   },
   "outputs": [],
   "source": [
    "import matplotlib.pyplot as plt\n",
    "from mpl_toolkits.basemap import Basemap\n",
    "import os\n",
    "import pandas as pd\n",
    "import sqlite3 as dbi"
   ]
  },
  {
   "cell_type": "markdown",
   "metadata": {},
   "source": [
    "2 Get and clean the data"
   ]
  },
  {
   "cell_type": "code",
   "execution_count": 14,
   "metadata": {
    "collapsed": false
   },
   "outputs": [],
   "source": [
    "crashes = pd.read_csv('../data/crash_data.csv')\n",
    "crashes = crashes.dropna()\n",
    "# crashes = crashes[crashes['road_inv'] == '005']"
   ]
  },
  {
   "cell_type": "markdown",
   "metadata": {},
   "source": [
    "3 Prepare the parameters"
   ]
  },
  {
   "cell_type": "code",
   "execution_count": 15,
   "metadata": {
    "collapsed": false
   },
   "outputs": [],
   "source": [
    "lons = crashes['longitude']\n",
    "lats = crashes['latitude']\n",
    "counts = crashes['tot_acc_ct']\n",
    "rates = (counts * 1000000)/ (crashes['avg_aadt'] * 365 * 6 * crashes['seg_lng'])"
   ]
  },
  {
   "cell_type": "code",
   "execution_count": 16,
   "metadata": {
    "collapsed": false
   },
   "outputs": [],
   "source": [
    "lons = lons.tolist()\n",
    "lats = lats.tolist()\n",
    "counts = counts.tolist()\n",
    "rates = rates.tolist()"
   ]
  },
  {
   "cell_type": "markdown",
   "metadata": {},
   "source": [
    "4 Prepare the hot map plotting tool"
   ]
  },
  {
   "cell_type": "code",
   "execution_count": 17,
   "metadata": {
    "collapsed": false
   },
   "outputs": [],
   "source": [
    "def draw_crash_map(shpurl, name, llon, llat, rlon, rlat, lons, lats, data):\n",
    "    '''\n",
    "    A function to plot hot spot map for crash rate and\n",
    "    crash severity\n",
    "    Parameters:\n",
    "    @shpurl {string} the shapefile url, without suffix,\n",
    "    e.g. '../data/highway/wgs84'\n",
    "    @name {float} either 'rate' or 'severity'\n",
    "    @llon {float} longitude of the top left corner\n",
    "    @llat {float} latitude of the top left corner\n",
    "    @rlon {float} longitude of the bottom right corner\n",
    "    @rlat {float} latitude of the bottom right corner\n",
    "    @lons {a list of float} longitudes of the crash spots\n",
    "    @lats {a list of float} latitudes of the crash spots\n",
    "    @data {a list of float} data for crash rates or severity\n",
    "    Return: Nothing\n",
    "    '''\n",
    "    # set up a map canvas\n",
    "    map = Basemap(llcrnrlon=llon, llcrnrlat=llat,\n",
    "                  urcrnrlon=rlon, urcrnrlat=rlat, resolution='i',\n",
    "                  projection='tmerc', lat_0=(llat+rlat)/2,\n",
    "                  lon_0=(llon+rlon)/2)\n",
    "    \n",
    "    # map.drawmapboundary(fill_color='#9999FF')\n",
    "    # map.fillcontinents(color='#ddaa66',lake_color='#9999FF')\n",
    "    # map.drawstates(color='0.5')\n",
    "\n",
    "    # read the shapefile\n",
    "    map.readshapefile(shpurl, 'highway')\n",
    "\n",
    "    # get the max value from the data to scale the size of the marker\n",
    "    max_val = max(data)\n",
    "    min_val = 10000\n",
    "    # plot the hot spots one by one with the marker\n",
    "    # size corresponding to the data\n",
    "    for index in range(len(data)):\n",
    "        x, y = map(lons[index], lats[index])\n",
    "        map.plot(x, y, marker='o', color='r', markersize=((data[index]*15/max_val)+5))\n",
    "        if data[index] > 0 and data[index] < min_val:\n",
    "            min_val = data[index]\n",
    "    red_dot1, = plt.plot([], \"ro\", markersize=20)\n",
    "    red_dot2, = plt.plot([], \"ro\", markersize=5)\n",
    "    str1 = 'Max crash rate:' + str(round(max_val,2))\n",
    "    str2 = 'Min crash rate:' + str(round(min_val,2))\n",
    "    plt.legend([red_dot1, red_dot2], [str1, str2])\n",
    "    plt.title('WA Highway Crash Rate Hot Spot Map')\n",
    "    # show the map\n",
    "    plt.show()"
   ]
  },
  {
   "cell_type": "markdown",
   "metadata": {},
   "source": [
    "5 Invoke the tool"
   ]
  },
  {
   "cell_type": "code",
   "execution_count": 18,
   "metadata": {
    "collapsed": false
   },
   "outputs": [],
   "source": [
    "draw_crash_map('../data/highway/wgs84', 'rate', -125.0, 49.50, -116.5, 45.0, lons, \n",
    "               lats, rates)"
   ]
  }
 ],
 "metadata": {
  "kernelspec": {
   "display_name": "Python 2",
   "language": "python",
   "name": "python2"
  },
  "language_info": {
   "codemirror_mode": {
    "name": "ipython",
    "version": 2
   },
   "file_extension": ".py",
   "mimetype": "text/x-python",
   "name": "python",
   "nbconvert_exporter": "python",
   "pygments_lexer": "ipython2",
   "version": "2.7.11"
  }
 },
 "nbformat": 4,
 "nbformat_minor": 0
}
